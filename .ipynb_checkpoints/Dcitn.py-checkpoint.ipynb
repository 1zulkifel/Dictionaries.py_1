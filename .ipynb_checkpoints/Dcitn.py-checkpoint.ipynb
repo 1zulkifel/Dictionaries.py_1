{
 "cells": [
  {
   "cell_type": "code",
   "execution_count": 20,
   "metadata": {},
   "outputs": [
    {
     "data": {
      "text/plain": [
       "({'Name': 'Ali',\n",
       "  'age': '23',\n",
       "  'ID.No': '11234',\n",
       "  'address': ' islamabad, i-8/4',\n",
       "  'street': '90'},)"
      ]
     },
     "execution_count": 20,
     "metadata": {},
     "output_type": "execute_result"
    }
   ],
   "source": [
    "#dictionaries are special structure in python which allows us to store information what we called key and value pairs.\n",
    "#iwrite a bunch of information and i want to store a specific value i use key.\n",
    "my_dictionary ={\n",
    "            \"Name\": \"Ali\",\n",
    "            \"age\":\"23\",\n",
    "            \"ID.No\": \"11234\",\n",
    "            \"address\": \" islamabad, i-8/4\",\n",
    "            \"street\": \"90\",},\n",
    "  \n",
    "my_dictionary"
   ]
  },
  {
   "cell_type": "code",
   "execution_count": 18,
   "metadata": {},
   "outputs": [
    {
     "data": {
      "text/plain": [
       "{'name': 'sher', 'age': 13, 'male': True, 'weight': 3.5}"
      ]
     },
     "execution_count": 18,
     "metadata": {},
     "output_type": "execute_result"
    }
   ],
   "source": [
    "# converting list into dictionary use seperate[ ] for easch list. use internal command of python dict()\n",
    "nw_dict= dict([[\"name\",'sher'],['age',13],['male',True],['weight',3.5],])\n",
    "nw_dict"
   ]
  },
  {
   "cell_type": "code",
   "execution_count": 31,
   "metadata": {},
   "outputs": [
    {
     "data": {
      "text/plain": [
       "{'user1': {'Name': 'Ali',\n",
       "  'age': '23',\n",
       "  'ID.No': '11234',\n",
       "  'address': ' islamabad, i-8/4',\n",
       "  'street': '90'},\n",
       " 'user2': {'Name': 'Ali',\n",
       "  'age': '23',\n",
       "  'ID.No': '1123',\n",
       "  'address': ' islamabad, i-8/2',\n",
       "  'street': '10'},\n",
       " 'user_3': {'Name': 'khan',\n",
       "  'age': '12',\n",
       "  'ID.No': '112',\n",
       "  'address': ' islamabad, i-8/3',\n",
       "  'street': '9'}}"
      ]
     },
     "execution_count": 31,
     "metadata": {},
     "output_type": "execute_result"
    }
   ],
   "source": [
    "# for creating nested dictionary. use \n",
    "your_dictionary ={\n",
    "   \"user1\":\n",
    "            {\"Name\": \"Ali\",\n",
    "            \"age\":\"23\",\n",
    "            \"ID.No\": \"11234\",\n",
    "            \"address\": \" islamabad, i-8/4\",\n",
    "            \"street\": \"90\",},\n",
    "   \"user2\": \n",
    "    {\n",
    "                \"Name\": \"Ali\",\n",
    "            \"age\":\"23\",\n",
    "            \"ID.No\": \"1123\",\n",
    "            \"address\": \" islamabad, i-8/2\",\n",
    "            \"street\": \"10\",\n",
    "            },\n",
    "    \"user_3\":\n",
    "    {\n",
    "            \"Name\": \"khan\",\n",
    "        \"age\":\"12\",\n",
    "        \"ID.No\": \"112\",\n",
    "        \"address\": \" islamabad, i-8/3\",\n",
    "        \"street\": \"9\",\n",
    "        },\n",
    "}\n",
    "    \n",
    "your_dictionary"
   ]
  },
  {
   "cell_type": "code",
   "execution_count": 45,
   "metadata": {},
   "outputs": [
    {
     "data": {
      "text/plain": [
       "{0: 'a', 1: 5}"
      ]
     },
     "execution_count": 45,
     "metadata": {},
     "output_type": "execute_result"
    }
   ],
   "source": [
    "# how to add element into dictionary, firt denfine empty dict then start adding elemnet into dic below mentioned method\n",
    "new_dict= {}\n",
    "new_dict [0]=\"a\"\n",
    "new_dict [1]=5\n",
    "new_dict"
   ]
  },
  {
   "cell_type": "code",
   "execution_count": 80,
   "metadata": {},
   "outputs": [
    {
     "name": "stdout",
     "output_type": "stream",
     "text": [
      "1\n",
      "2\n",
      "3\n",
      "4\n"
     ]
    }
   ],
   "source": [
    "#looping by using for loop\n",
    "dict_a= {1:'a',2:'b',3:'d',4:'f'}\n",
    "for key in dict_a.keys():\n",
    "    print(key)\n"
   ]
  },
  {
   "cell_type": "code",
   "execution_count": 81,
   "metadata": {},
   "outputs": [
    {
     "name": "stdout",
     "output_type": "stream",
     "text": [
      "a\n",
      "b\n",
      "d\n",
      "f\n"
     ]
    }
   ],
   "source": [
    "# for values\n",
    "dict_a= {1:'a',2:'b',3:'d',4:'f'}\n",
    "for value in dict_a.values():\n",
    "    print(value)"
   ]
  },
  {
   "cell_type": "code",
   "execution_count": 82,
   "metadata": {},
   "outputs": [
    {
     "name": "stdout",
     "output_type": "stream",
     "text": [
      "1 a\n",
      "2 b\n",
      "3 d\n",
      "4 f\n"
     ]
    }
   ],
   "source": [
    "#for keys and value use \n",
    "for key,value in dict_a.items():\n",
    "    print(key,value)"
   ]
  },
  {
   "cell_type": "code",
   "execution_count": 87,
   "metadata": {},
   "outputs": [
    {
     "name": "stdout",
     "output_type": "stream",
     "text": [
      "key: 4 value: f\n",
      "key: 4 value: f\n",
      "key: 4 value: f\n",
      "key: 4 value: f\n"
     ]
    }
   ],
   "source": [
    "\n",
    "for ll,kk in dict_a.items():\n",
    "    print('key:',str(key) ,'value:' ,value)"
   ]
  },
  {
   "cell_type": "code",
   "execution_count": 79,
   "metadata": {},
   "outputs": [
    {
     "name": "stdout",
     "output_type": "stream",
     "text": [
      "a\n",
      "b\n",
      "d\n",
      "f\n",
      "[{1: 'a', 2: 'b', 3: 'd', 4: 'f'}]\n"
     ]
    }
   ],
   "source": [
    "# append from list to list \n",
    "list1=[]\n",
    "for key in dict_a.keys():\n",
    "    print(dict_a [key])\n",
    "list1.append(dict_a)\n",
    "print(list1)"
   ]
  },
  {
   "cell_type": "code",
   "execution_count": 71,
   "metadata": {},
   "outputs": [
    {
     "ename": "AttributeError",
     "evalue": "'dict' object has no attribute 'append'",
     "output_type": "error",
     "traceback": [
      "\u001b[1;31m---------------------------------------------------------------------------\u001b[0m",
      "\u001b[1;31mAttributeError\u001b[0m                            Traceback (most recent call last)",
      "\u001b[1;32m<ipython-input-71-0c8e0d8edcd7>\u001b[0m in \u001b[0;36m<module>\u001b[1;34m()\u001b[0m\n\u001b[1;32m----> 1\u001b[1;33m \u001b[0mdict_a\u001b[0m\u001b[1;33m.\u001b[0m\u001b[0mappend\u001b[0m\u001b[1;33m(\u001b[0m\u001b[0mlist1\u001b[0m\u001b[1;33m)\u001b[0m\u001b[1;33m\u001b[0m\u001b[0m\n\u001b[0m",
      "\u001b[1;31mAttributeError\u001b[0m: 'dict' object has no attribute 'append'"
     ]
    }
   ],
   "source": []
  },
  {
   "cell_type": "code",
   "execution_count": 91,
   "metadata": {},
   "outputs": [
    {
     "name": "stdout",
     "output_type": "stream",
     "text": [
      "dict has value = a\n"
     ]
    }
   ],
   "source": [
    "# using if statement\n",
    "dict_a= {1:'a',2:'b',3:'d',4:'f'}\n",
    "if 2 in dict_a:\n",
    "    print(\"dict has value = a\")"
   ]
  },
  {
   "cell_type": "code",
   "execution_count": 92,
   "metadata": {},
   "outputs": [
    {
     "name": "stdout",
     "output_type": "stream",
     "text": [
      "try another way\n"
     ]
    }
   ],
   "source": [
    "# using if and else\n",
    "if 5 in dict_a:\n",
    "    print(\"it has key 5\")\n",
    "else:\n",
    "    print(\"try another way\")"
   ]
  },
  {
   "cell_type": "code",
   "execution_count": 106,
   "metadata": {},
   "outputs": [
    {
     "data": {
      "text/plain": [
       "{1: ['a'], 2: ['b'], 3: 'd', 4: 'f'}"
      ]
     },
     "execution_count": 106,
     "metadata": {},
     "output_type": "execute_result"
    }
   ],
   "source": [
    "# making shellow copy of a dictionary, make some changes in orignal dictionary\n",
    "dict_a= {1:['a',],2:['b'],3:'d',4:'f'}\n",
    "nw_dict_a= dict_a.copy()\n",
    "nw_dict_a"
   ]
  },
  {
   "cell_type": "code",
   "execution_count": 104,
   "metadata": {},
   "outputs": [
    {
     "data": {
      "text/plain": [
       "{1: [('ali', 'shr')], 2: ['b'], 3: 'd', 4: 'f'}"
      ]
     },
     "execution_count": 104,
     "metadata": {},
     "output_type": "execute_result"
    }
   ],
   "source": [
    "dict_a [1][0]= \"ali\", \"shr\"\n",
    "dict_a"
   ]
  },
  {
   "cell_type": "code",
   "execution_count": 105,
   "metadata": {},
   "outputs": [
    {
     "data": {
      "text/plain": [
       "{1: [('ali', 'shr')], 2: ['b'], 3: 'd', 4: 'f'}"
      ]
     },
     "execution_count": 105,
     "metadata": {},
     "output_type": "execute_result"
    }
   ],
   "source": [
    "# the value is also changed in copied \n",
    "nw_dict_a"
   ]
  },
  {
   "cell_type": "code",
   "execution_count": 113,
   "metadata": {},
   "outputs": [
    {
     "data": {
      "text/plain": [
       "{1: ['a'], 2: ['b'], 3: 'c', 4: 'f'}"
      ]
     },
     "execution_count": 113,
     "metadata": {},
     "output_type": "execute_result"
    }
   ],
   "source": [
    "#for deep copy  , if we make change in dict_a the dict_a_copy donot chage\n",
    "dict_a= {1:['a',],2:['b'],3:'c',4:'f'}\n",
    "dict_a"
   ]
  },
  {
   "cell_type": "code",
   "execution_count": 108,
   "metadata": {},
   "outputs": [
    {
     "data": {
      "text/plain": [
       "{1: ['a'], 2: ['b'], 3: 'd', 4: 'f'}"
      ]
     },
     "execution_count": 108,
     "metadata": {},
     "output_type": "execute_result"
    }
   ],
   "source": [
    "import copy\n",
    "dict_a_copy=copy.deepcopy(dict_a)\n",
    "dict_a_copy"
   ]
  },
  {
   "cell_type": "code",
   "execution_count": 115,
   "metadata": {},
   "outputs": [
    {
     "data": {
      "text/plain": [
       "{1: ['changed'], 2: ['b'], 3: 'c', 4: 'f'}"
      ]
     },
     "execution_count": 115,
     "metadata": {},
     "output_type": "execute_result"
    }
   ],
   "source": [
    "dict_a[1][0]=\"changed\"\n",
    "dict_a"
   ]
  },
  {
   "cell_type": "code",
   "execution_count": 112,
   "metadata": {},
   "outputs": [
    {
     "data": {
      "text/plain": [
       "{1: ['a'], 2: ['b'], 3: 'd', 4: 'f'}"
      ]
     },
     "execution_count": 112,
     "metadata": {},
     "output_type": "execute_result"
    }
   ],
   "source": [
    "dict_a_copy"
   ]
  },
  {
   "cell_type": "code",
   "execution_count": 119,
   "metadata": {},
   "outputs": [
    {
     "data": {
      "text/plain": [
       "{}"
      ]
     },
     "execution_count": 119,
     "metadata": {},
     "output_type": "execute_result"
    }
   ],
   "source": [
    "#for clearing dictionary , .clear(). \n",
    "dict_a.clear()\n",
    "dict_a"
   ]
  },
  {
   "cell_type": "code",
   "execution_count": 125,
   "metadata": {},
   "outputs": [
    {
     "data": {
      "text/plain": [
       "{1: ['a'], 2: ['b', 'kl', 'kim'], 3: 'c', 4: 'f'}"
      ]
     },
     "execution_count": 125,
     "metadata": {},
     "output_type": "execute_result"
    }
   ],
   "source": [
    "dict_a= {1:['a',],2:['b','kl','kim'],3:'c',4:'f'}\n",
    "dict_a\n"
   ]
  },
  {
   "cell_type": "code",
   "execution_count": 128,
   "metadata": {},
   "outputs": [
    {
     "data": {
      "text/plain": [
       "['b', 'kl', 'kim']"
      ]
     },
     "execution_count": 128,
     "metadata": {},
     "output_type": "execute_result"
    }
   ],
   "source": [
    "#for getting key value use get\n",
    "value_of_2= dict_a.get(2)\n",
    "value_of_2"
   ]
  },
  {
   "cell_type": "code",
   "execution_count": 132,
   "metadata": {},
   "outputs": [
    {
     "data": {
      "text/plain": [
       "{1: ['a'], 2: ['b', 'kl', 'kim'], 3: 'c', 4: 'f'}"
      ]
     },
     "execution_count": 132,
     "metadata": {},
     "output_type": "execute_result"
    }
   ],
   "source": [
    "#for pop \n",
    "dict_a= {1:['a',],2:['b','kl','kim'],3:'c',4:'f'}\n",
    "dict_a\n"
   ]
  },
  {
   "cell_type": "code",
   "execution_count": 133,
   "metadata": {},
   "outputs": [
    {
     "data": {
      "text/plain": [
       "(4, 'f')"
      ]
     },
     "execution_count": 133,
     "metadata": {},
     "output_type": "execute_result"
    }
   ],
   "source": [
    "dict_a.popitem()\n"
   ]
  },
  {
   "cell_type": "code",
   "execution_count": 134,
   "metadata": {},
   "outputs": [
    {
     "data": {
      "text/plain": [
       "{1: ['a'], 2: ['b', 'kl', 'kim'], 3: 'c'}"
      ]
     },
     "execution_count": 134,
     "metadata": {},
     "output_type": "execute_result"
    }
   ],
   "source": [
    "dict_a"
   ]
  },
  {
   "cell_type": "code",
   "execution_count": 135,
   "metadata": {},
   "outputs": [
    {
     "data": {
      "text/plain": [
       "['b', 'kl', 'kim']"
      ]
     },
     "execution_count": 135,
     "metadata": {},
     "output_type": "execute_result"
    }
   ],
   "source": [
    "dict_a.pop(2)"
   ]
  },
  {
   "cell_type": "code",
   "execution_count": 136,
   "metadata": {},
   "outputs": [
    {
     "data": {
      "text/plain": [
       "{1: ['a'], 3: 'c'}"
      ]
     },
     "execution_count": 136,
     "metadata": {},
     "output_type": "execute_result"
    }
   ],
   "source": [
    "dict_a"
   ]
  },
  {
   "cell_type": "code",
   "execution_count": 144,
   "metadata": {},
   "outputs": [
    {
     "data": {
      "text/plain": [
       "{1: ['a'], 2: ['b', 'kl', 'kim'], 3: 'c', 'pass': 'f'}"
      ]
     },
     "execution_count": 144,
     "metadata": {},
     "output_type": "execute_result"
    }
   ],
   "source": [
    "#for updating key value pairs use update\n",
    "dict_a= {1:['a',],2:['b','kl','kim'],3:'c','pass':'f'}\n",
    "dict_a"
   ]
  },
  {
   "cell_type": "code",
   "execution_count": 146,
   "metadata": {},
   "outputs": [
    {
     "data": {
      "text/plain": [
       "{1: ['ahmad'], 2: ['b', 'kl', 'kim'], 3: 3332, 'pass': 'ranked'}"
      ]
     },
     "execution_count": 146,
     "metadata": {},
     "output_type": "execute_result"
    }
   ],
   "source": [
    "dict_a.update({1:['ahmad'], 3:3332, 'pass': 'ranked'})\n",
    "dict_a\n"
   ]
  },
  {
   "cell_type": "code",
   "execution_count": 148,
   "metadata": {},
   "outputs": [
    {
     "data": {
      "text/plain": [
       "4"
      ]
     },
     "execution_count": 148,
     "metadata": {},
     "output_type": "execute_result"
    }
   ],
   "source": [
    "# for lenth\n",
    "len(dict_a)\n"
   ]
  },
  {
   "cell_type": "code",
   "execution_count": null,
   "metadata": {},
   "outputs": [],
   "source": []
  }
 ],
 "metadata": {
  "kernelspec": {
   "display_name": "Python 3",
   "language": "python",
   "name": "python3"
  },
  "language_info": {
   "codemirror_mode": {
    "name": "ipython",
    "version": 3
   },
   "file_extension": ".py",
   "mimetype": "text/x-python",
   "name": "python",
   "nbconvert_exporter": "python",
   "pygments_lexer": "ipython3",
   "version": "3.7.0"
  }
 },
 "nbformat": 4,
 "nbformat_minor": 2
}
